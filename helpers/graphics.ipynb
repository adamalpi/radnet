{
 "cells": [
  {
   "cell_type": "code",
   "execution_count": 1,
   "metadata": {
    "collapsed": true
   },
   "outputs": [],
   "source": [
    "import os\n",
    "import fnmatch\n",
    "import re\n",
    "import numpy as np\n",
    "import matplotlib.pyplot as plt\n",
    "\n",
    "\n",
    "def find_files(directory, pattern='*.csv'):\n",
    "    ''' Recursively finds all files matching the pattern.'''\n",
    "    files = []\n",
    "    for root, dirnames, filenames in os.walk(directory):\n",
    "        for filename in fnmatch.filter(filenames, pattern):\n",
    "            files.append(os.path.join(root, filename))\n",
    "    return files\n",
    "\n",
    "def load_data_samples(directory):\n",
    "    ''' Generator that yields audio waveforms from the directory.'''\n",
    "    files = find_files(directory)\n",
    "    print(\"files length: {}\".format(len(files)))\n",
    "    id_reg_expression = re.compile(FILE_PATTERN)\n",
    "    for filename in files:\n",
    "        f = open(filename)\n",
    "        lines = f.readlines()\n",
    "        original = []\n",
    "        prediction = []\n",
    "        for j in range(1, len(lines)):\n",
    "            items = lines[j].strip().split(\",\")\n",
    "            original.append(float(items[0]))\n",
    "            prediction.append(float(items[1]))\n",
    "        f.close()\n",
    "\n",
    "        id = int(id_reg_expression.findall(filename)[0])\n",
    "        loss = lines[0]\n",
    "        \n",
    "        yield original, prediction, id, loss"
   ]
  },
  {
   "cell_type": "code",
   "execution_count": 2,
   "metadata": {
    "collapsed": false
   },
   "outputs": [
    {
     "name": "stdout",
     "output_type": "stream",
     "text": [
      "files length: 1000\n"
     ]
    },
    {
     "ename": "ValueError",
     "evalue": "could not convert string to float: '9.68614,0.00437122443690896,284.22857666015625,\\n'",
     "output_type": "error",
     "traceback": [
      "\u001b[0;31m---------------------------------------------------------------------------\u001b[0m",
      "\u001b[0;31mValueError\u001b[0m                                Traceback (most recent call last)",
      "\u001b[0;32m<ipython-input-2-84d10e7b2d2b>\u001b[0m in \u001b[0;36m<module>\u001b[0;34m()\u001b[0m\n\u001b[1;32m     12\u001b[0m \u001b[0;34m\u001b[0m\u001b[0m\n\u001b[1;32m     13\u001b[0m \u001b[0;32mfor\u001b[0m \u001b[0mlabel\u001b[0m\u001b[0;34m,\u001b[0m \u001b[0mpred\u001b[0m\u001b[0;34m,\u001b[0m \u001b[0mid_file\u001b[0m\u001b[0;34m,\u001b[0m \u001b[0mmse\u001b[0m \u001b[0;32min\u001b[0m \u001b[0miterator\u001b[0m\u001b[0;34m:\u001b[0m\u001b[0;34m\u001b[0m\u001b[0m\n\u001b[0;32m---> 14\u001b[0;31m     \u001b[0merrors\u001b[0m\u001b[0;34m.\u001b[0m\u001b[0mappend\u001b[0m\u001b[0;34m(\u001b[0m\u001b[0mfloat\u001b[0m\u001b[0;34m(\u001b[0m\u001b[0mmse\u001b[0m\u001b[0;34m)\u001b[0m\u001b[0;34m)\u001b[0m\u001b[0;34m\u001b[0m\u001b[0m\n\u001b[0m\u001b[1;32m     15\u001b[0m     \u001b[0mplt\u001b[0m\u001b[0;34m.\u001b[0m\u001b[0mfigure\u001b[0m\u001b[0;34m(\u001b[0m\u001b[0;34m)\u001b[0m\u001b[0;34m\u001b[0m\u001b[0m\n\u001b[1;32m     16\u001b[0m     \u001b[0mplt\u001b[0m\u001b[0;34m.\u001b[0m\u001b[0mtitle\u001b[0m\u001b[0;34m(\u001b[0m\u001b[0;34m\"File #{}\"\u001b[0m\u001b[0;34m.\u001b[0m\u001b[0mformat\u001b[0m\u001b[0;34m(\u001b[0m\u001b[0mid_file\u001b[0m\u001b[0;34m)\u001b[0m\u001b[0;34m)\u001b[0m\u001b[0;34m\u001b[0m\u001b[0m\n",
      "\u001b[0;31mValueError\u001b[0m: could not convert string to float: '9.68614,0.00437122443690896,284.22857666015625,\\n'"
     ]
    }
   ],
   "source": [
    "FILE_PATTERN = r'([0-9]+)\\.csv'\n",
    "\n",
    "mydir = '/Users/adam13/Documents/uni/TFM/climate_results/18'\n",
    "files = find_files(mydir)\n",
    "\n",
    "\n",
    "iterator = load_data_samples(mydir)\n",
    "\n",
    "\n",
    "\n",
    "errors = list()\n",
    "\n",
    "for label, pred, id_file, mse in iterator:\n",
    "    errors.append(float(mse))\n",
    "    plt.figure()\n",
    "    plt.title(\"File #{}\".format(id_file))\n",
    "    plt.xlabel(\"Index\")\n",
    "    plt.ylabel(\"Prediction\")\n",
    "    plt.plot(pred, label=\"Predicted Value\", color='red' )\n",
    "    plt.plot(label, label=\"Actual Value\",color='blue')\n",
    "    plt.legend()\n",
    "    plt.show()\n",
    "    \n",
    "    print (\"MSE \"+str(mse))\n",
    "    \n"
   ]
  },
  {
   "cell_type": "code",
   "execution_count": 35,
   "metadata": {
    "collapsed": false
   },
   "outputs": [
    {
     "name": "stdout",
     "output_type": "stream",
     "text": [
      "0.00415354253535\n"
     ]
    }
   ],
   "source": [
    "print (str(np.mean(errors)))"
   ]
  },
  {
   "cell_type": "code",
   "execution_count": null,
   "metadata": {
    "collapsed": true
   },
   "outputs": [],
   "source": []
  }
 ],
 "metadata": {
  "kernelspec": {
   "display_name": "Python [default]",
   "language": "python",
   "name": "python3"
  },
  "language_info": {
   "codemirror_mode": {
    "name": "ipython",
    "version": 3
   },
   "file_extension": ".py",
   "mimetype": "text/x-python",
   "name": "python",
   "nbconvert_exporter": "python",
   "pygments_lexer": "ipython3",
   "version": "3.5.2"
  }
 },
 "nbformat": 4,
 "nbformat_minor": 2
}
